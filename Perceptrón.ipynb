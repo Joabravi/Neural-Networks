{
  "nbformat": 4,
  "nbformat_minor": 0,
  "metadata": {
    "colab": {
      "provenance": [],
      "authorship_tag": "ABX9TyOVNa2to9cQZHakmTdtB/Ki",
      "include_colab_link": true
    },
    "kernelspec": {
      "name": "python3",
      "display_name": "Python 3"
    },
    "language_info": {
      "name": "python"
    }
  },
  "cells": [
    {
      "cell_type": "markdown",
      "metadata": {
        "id": "view-in-github",
        "colab_type": "text"
      },
      "source": [
        "<a href=\"https://colab.research.google.com/github/JoabRV/Neural-Networks/blob/main/Perceptr%C3%B3n.ipynb\" target=\"_parent\"><img src=\"https://colab.research.google.com/assets/colab-badge.svg\" alt=\"Open In Colab\"/></a>"
      ]
    },
    {
      "cell_type": "code",
      "execution_count": null,
      "metadata": {
        "id": "MXumwm3y4ZSd"
      },
      "outputs": [],
      "source": [
        "#Importar las librerias\n",
        "\n",
        "import numpy as np\n",
        "import matplotlib as plt"
      ]
    },
    {
      "cell_type": "code",
      "source": [
        "#Edad y Ahorro\n",
        "\n",
        "personas = np.array([[0.3, 0.4], [0.4, 0.3],\n",
        "                     [0.3, 0.2], [0.4, 0.1],\n",
        "                     [0.5, 0.2], [0.4, 0.8],\n",
        "                     [0.6, 0.8], [0.5, 0.6],\n",
        "                     [0.7, 0.6], [0.8, 0.5]])"
      ],
      "metadata": {
        "id": "3kX4heJ86idg"
      },
      "execution_count": null,
      "outputs": []
    },
    {
      "cell_type": "code",
      "source": [
        "clases = np.array([0,0,0,0,0,1,1,1,1,1])"
      ],
      "metadata": {
        "id": "dzxYWQMy8Pt0"
      },
      "execution_count": null,
      "outputs": []
    },
    {
      "cell_type": "code",
      "source": [
        "def activacion(pesos, x):\n",
        "  w1 w2"
      ],
      "metadata": {
        "id": "qp6RlQYp8kf0"
      },
      "execution_count": null,
      "outputs": []
    }
  ]
}